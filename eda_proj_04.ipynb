{
 "cells": [
  {
   "cell_type": "markdown",
   "id": "24b92057-12b3-4971-8281-5572baecbbab",
   "metadata": {},
   "source": [
    "### Monday 31th of March, 2025\n",
    "\n",
    "## EDA Datathon project IV\n",
    "### Juan Domingo"
   ]
  },
  {
   "cell_type": "code",
   "execution_count": null,
   "id": "fb62e335-d252-4370-a26e-ad9947cc57c8",
   "metadata": {},
   "outputs": [],
   "source": []
  }
 ],
 "metadata": {
  "kernelspec": {
   "display_name": "Python 3 (ipykernel)",
   "language": "python",
   "name": "python3"
  },
  "language_info": {
   "codemirror_mode": {
    "name": "ipython",
    "version": 3
   },
   "file_extension": ".py",
   "mimetype": "text/x-python",
   "name": "python",
   "nbconvert_exporter": "python",
   "pygments_lexer": "ipython3",
   "version": "3.12.3"
  }
 },
 "nbformat": 4,
 "nbformat_minor": 5
}
