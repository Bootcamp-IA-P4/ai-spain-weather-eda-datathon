{
 "cells": [
  {
   "cell_type": "markdown",
   "id": "24b92057-12b3-4971-8281-5572baecbbab",
   "metadata": {},
   "source": [
    "### Monday 31th of March, 2025\n",
    "\n",
    "## EDA Datathon project IV\n",
    "## Global Poverty EDA\n",
    "\n",
    "### Juan Domingo"
   ]
  },
  {
   "cell_type": "markdown",
   "id": "98d5def8-e0c0-453f-be87-cf00ccbd989a",
   "metadata": {},
   "source": [
    "## Citations\n",
    "\n",
    "### Share of population living in extreme poverty\n",
    "Michalis Moatsos (2021) – with major processing by Our World in Data. “Share of population living in extreme poverty – Long-run estimates” [dataset]. Michalis Moatsos, “Global extreme poverty - Present and past since 1820” [original data]. Retrieved April 1, 2025 from https://ourworldindata.org/grapher/share-of-population-living-in-extreme-poverty\n",
    "\n",
    "### Gini CoefficientWorld Bank\n",
    "World Bank Poverty and Inequality Platform (2024) – with major processing by Our World in Data. “Gini Coefficient – World Bank” [dataset]. World Bank Poverty and Inequality Platform, “World Bank Poverty and Inequality Platform (PIP) 20240627_2017, 20240627_2011” [original data]. Retrieved April 1, 2025 from https://ourworldindata.org/grapher/economic-inequality-gini-index\n",
    "\n",
    "### GDP per capitaIn constant international-$ World Bank\n",
    "\n",
    "Data compiled from multiple sources by World Bank (2025) – with minor processing by Our World in Data. “GDP per capita – World Bank – In constant international-$” [dataset]. Data compiled from multiple sources by World Bank, “World Development Indicators” [original data]. Retrieved April 1, 2025 from https://ourworldindata.org/grapher/gdp-per-capita-worldbank\n"
   ]
  },
  {
   "cell_type": "code",
   "execution_count": 1,
   "id": "fa14940a-03c6-4818-8ef5-cc713c01bff8",
   "metadata": {},
   "outputs": [],
   "source": [
    "# Data Analysis:\n",
    "import pandas as pd\n",
    "import numpy as np"
   ]
  },
  {
   "cell_type": "markdown",
   "id": "c0c333ac-653b-4072-a899-39ce6289bc46",
   "metadata": {},
   "source": []
  },
  {
   "cell_type": "code",
   "execution_count": 2,
   "id": "fb62e335-d252-4370-a26e-ad9947cc57c8",
   "metadata": {},
   "outputs": [],
   "source": [
    "# Display:\n",
    "import matplotlib.pyplot as plt\n",
    "import seaborn as sns\n",
    "import plotly.express as px"
   ]
  },
  {
   "cell_type": "markdown",
   "id": "ce059cba-5e03-40bb-b2d2-3f75004d2e56",
   "metadata": {},
   "source": [
    "### Virtual enviroment checking:"
   ]
  },
  {
   "cell_type": "code",
   "execution_count": 3,
   "id": "423d68c1-40e8-4b9b-a71b-dbca953cb3da",
   "metadata": {},
   "outputs": [
    {
     "name": "stdout",
     "output_type": "stream",
     "text": [
      "/home/juandomingo/factoriaf5/mod02-projs/eda-datathon-04/.venv/bin/python3\n"
     ]
    }
   ],
   "source": [
    "import sys\n",
    "print(sys.executable)  # Debe mostrar la ruta a tu entorno virtual\n",
    "#!which python  # En Linux/Mac"
   ]
  },
  {
   "cell_type": "code",
   "execution_count": 4,
   "id": "c457c03e-d76b-422f-9db1-08020da0f421",
   "metadata": {},
   "outputs": [
    {
     "name": "stdout",
     "output_type": "stream",
     "text": [
      "/home/juandomingo/factoriaf5/mod02-projs/eda-datathon-04/.venv\n"
     ]
    }
   ],
   "source": [
    "import sys\n",
    "print(sys.prefix)  # Muestra el directorio base del entorno actual"
   ]
  },
  {
   "cell_type": "code",
   "execution_count": 5,
   "id": "901da1bf-e0ae-493e-851b-3d6aba7c8dda",
   "metadata": {},
   "outputs": [],
   "source": [
    "# Graph configuration\n",
    "plt.style.use('ggplot') # Nice style\n",
    "# To display graphs in the notebook.\n",
    "%matplotlib inline "
   ]
  },
  {
   "cell_type": "code",
   "execution_count": 6,
   "id": "10eb82d9-50b2-4bb3-927d-01c3ee5e04dc",
   "metadata": {},
   "outputs": [],
   "source": [
    "# Load files (adjust paths if necessary)\n",
    "poverty = pd.read_csv(\"data/share-of-population-living-in-extreme-poverty.csv\")\n",
    "gdp = pd.read_csv(\"data/gdp-per-capita-worldbank.csv\")\n",
    "gini = pd.read_csv(\"data/economic-inequality-gini-index.csv\")\n",
    "\n",
    "# Rename columns for clarity\n",
    "poverty = poverty. rename(columns={\"$1.90 a day - Share of population in poverty (Smoothed)\": \"poverty_rate\"})\n",
    "gdp = gdp.rename(columns={\"GDP per capita, PPP (constant 2021 international $)\": \"gdp_per_capita\"})\n",
    "gini = gini.rename(columns={\"Gini coefficient\": \"gini_index\"})"
   ]
  },
  {
   "cell_type": "code",
   "execution_count": 10,
   "id": "1fbdf3ad-142c-4ff0-bc22-03212c1f50ba",
   "metadata": {},
   "outputs": [
    {
     "data": {
      "text/html": [
       "<div>\n",
       "<style scoped>\n",
       "    .dataframe tbody tr th:only-of-type {\n",
       "        vertical-align: middle;\n",
       "    }\n",
       "\n",
       "    .dataframe tbody tr th {\n",
       "        vertical-align: top;\n",
       "    }\n",
       "\n",
       "    .dataframe thead th {\n",
       "        text-align: right;\n",
       "    }\n",
       "</style>\n",
       "<table border=\"1\" class=\"dataframe\">\n",
       "  <thead>\n",
       "    <tr style=\"text-align: right;\">\n",
       "      <th></th>\n",
       "      <th>Entity</th>\n",
       "      <th>Code</th>\n",
       "      <th>Year</th>\n",
       "      <th>poverty_rate</th>\n",
       "      <th>818119-annotations</th>\n",
       "      <th>gdp_per_capita</th>\n",
       "      <th>gini_index</th>\n",
       "      <th>990179-annotations</th>\n",
       "    </tr>\n",
       "  </thead>\n",
       "  <tbody>\n",
       "    <tr>\n",
       "      <th>24</th>\n",
       "      <td>World</td>\n",
       "      <td>OWID_WRL</td>\n",
       "      <td>2014</td>\n",
       "      <td>10.106801</td>\n",
       "      <td>NaN</td>\n",
       "      <td>17370.570</td>\n",
       "      <td>NaN</td>\n",
       "      <td>NaN</td>\n",
       "    </tr>\n",
       "    <tr>\n",
       "      <th>25</th>\n",
       "      <td>World</td>\n",
       "      <td>OWID_WRL</td>\n",
       "      <td>2015</td>\n",
       "      <td>10.604952</td>\n",
       "      <td>NaN</td>\n",
       "      <td>17734.984</td>\n",
       "      <td>NaN</td>\n",
       "      <td>NaN</td>\n",
       "    </tr>\n",
       "    <tr>\n",
       "      <th>26</th>\n",
       "      <td>World</td>\n",
       "      <td>OWID_WRL</td>\n",
       "      <td>2016</td>\n",
       "      <td>9.568008</td>\n",
       "      <td>NaN</td>\n",
       "      <td>18098.455</td>\n",
       "      <td>NaN</td>\n",
       "      <td>NaN</td>\n",
       "    </tr>\n",
       "    <tr>\n",
       "      <th>27</th>\n",
       "      <td>World</td>\n",
       "      <td>OWID_WRL</td>\n",
       "      <td>2017</td>\n",
       "      <td>9.322068</td>\n",
       "      <td>NaN</td>\n",
       "      <td>18575.725</td>\n",
       "      <td>NaN</td>\n",
       "      <td>NaN</td>\n",
       "    </tr>\n",
       "    <tr>\n",
       "      <th>28</th>\n",
       "      <td>World</td>\n",
       "      <td>OWID_WRL</td>\n",
       "      <td>2018</td>\n",
       "      <td>8.614398</td>\n",
       "      <td>NaN</td>\n",
       "      <td>19046.809</td>\n",
       "      <td>NaN</td>\n",
       "      <td>NaN</td>\n",
       "    </tr>\n",
       "  </tbody>\n",
       "</table>\n",
       "</div>"
      ],
      "text/plain": [
       "   Entity      Code  Year  poverty_rate 818119-annotations  gdp_per_capita  \\\n",
       "24  World  OWID_WRL  2014     10.106801                NaN       17370.570   \n",
       "25  World  OWID_WRL  2015     10.604952                NaN       17734.984   \n",
       "26  World  OWID_WRL  2016      9.568008                NaN       18098.455   \n",
       "27  World  OWID_WRL  2017      9.322068                NaN       18575.725   \n",
       "28  World  OWID_WRL  2018      8.614398                NaN       19046.809   \n",
       "\n",
       "    gini_index  990179-annotations  \n",
       "24         NaN                 NaN  \n",
       "25         NaN                 NaN  \n",
       "26         NaN                 NaN  \n",
       "27         NaN                 NaN  \n",
       "28         NaN                 NaN  "
      ]
     },
     "execution_count": 10,
     "metadata": {},
     "output_type": "execute_result"
    }
   ],
   "source": [
    "# Combine poverty and GDP\n",
    "df = pd.merge(\n",
    " poverty, \n",
    " gdp, \n",
    " on=[\"Code\", \"Year\", \"Entity\"], # \"Entity\" = country name\n",
    " how=\"inner\" # Keep only records with data in both\n",
    ")\n",
    "\n",
    "# Combine with Gini\n",
    "df = pd.merge(\n",
    " df, \n",
    " gini, \n",
    " on=[\"Code\", \"Year\", \"Entity\"], \n",
    " how=\"left\" # Keep all previous records\n",
    ")\n",
    "\n",
    "# View first rows\n",
    "df.tail()"
   ]
  },
  {
   "cell_type": "markdown",
   "id": "6c4cb57d-eaf8-439a-ab56-0c2e7371bc4e",
   "metadata": {},
   "source": [
    "### Cleaning Data"
   ]
  },
  {
   "cell_type": "code",
   "execution_count": 8,
   "id": "97dc1e7c-786c-46fe-a57c-49d71569b482",
   "metadata": {},
   "outputs": [
    {
     "ename": "ValueError",
     "evalue": "Item wrong length 0 instead of 19.",
     "output_type": "error",
     "traceback": [
      "\u001b[31m---------------------------------------------------------------------------\u001b[39m",
      "\u001b[31mValueError\u001b[39m                                Traceback (most recent call last)",
      "\u001b[32m/tmp/ipykernel_37861/2588686099.py\u001b[39m in \u001b[36m?\u001b[39m\u001b[34m()\u001b[39m\n\u001b[32m     28\u001b[39m \u001b[38;5;66;03m# 4. Outlier detection and treatment\u001b[39;00m\n\u001b[32m     29\u001b[39m \u001b[38;5;66;03m# 4.1. Use Z-score for numeric variables\u001b[39;00m\n\u001b[32m     30\u001b[39m numeric_cols = [\u001b[33m'poverty_rate'\u001b[39m, \u001b[33m'gdp_per_capita'\u001b[39m, \u001b[33m'gini_index'\u001b[39m]\n\u001b[32m     31\u001b[39m z_scores = np.abs(stats.zscore(df_clean[numeric_cols].dropna()))\n\u001b[32m---> \u001b[39m\u001b[32m32\u001b[39m df_clean = df_clean[(z_scores < \u001b[32m3\u001b[39m).all(axis=\u001b[32m1\u001b[39m)] \u001b[38;5;66;03m# Remove |Z| > 3\u001b[39;00m\n\u001b[32m     33\u001b[39m \n\u001b[32m     34\u001b[39m \u001b[38;5;66;03m# 5. Validate consistency # 5.1. Remove outliers. Validation of consistency\u001b[39;00m\n\u001b[32m     35\u001b[39m \u001b[38;5;66;03m# 5.1. Ensure poverty rate is between 0-100\u001b[39;00m\n",
      "\u001b[32m~/factoriaf5/mod02-projs/eda-datathon-04/.venv/lib/python3.13/site-packages/pandas/core/frame.py\u001b[39m in \u001b[36m?\u001b[39m\u001b[34m(self, key)\u001b[39m\n\u001b[32m   4089\u001b[39m             \u001b[38;5;28;01mreturn\u001b[39;00m self.where(key)\n\u001b[32m   4090\u001b[39m \n\u001b[32m   4091\u001b[39m         \u001b[38;5;66;03m# Do we have a (boolean) 1d indexer?\u001b[39;00m\n\u001b[32m   4092\u001b[39m         \u001b[38;5;28;01mif\u001b[39;00m com.is_bool_indexer(key):\n\u001b[32m-> \u001b[39m\u001b[32m4093\u001b[39m             \u001b[38;5;28;01mreturn\u001b[39;00m self._getitem_bool_array(key)\n\u001b[32m   4094\u001b[39m \n\u001b[32m   4095\u001b[39m         \u001b[38;5;66;03m# We are left with two options: a single key, and a collection of keys,\u001b[39;00m\n\u001b[32m   4096\u001b[39m         \u001b[38;5;66;03m# We interpret tuples as collections only for non-MultiIndex\u001b[39;00m\n",
      "\u001b[32m~/factoriaf5/mod02-projs/eda-datathon-04/.venv/lib/python3.13/site-packages/pandas/core/frame.py\u001b[39m in \u001b[36m?\u001b[39m\u001b[34m(self, key)\u001b[39m\n\u001b[32m   4139\u001b[39m                 UserWarning,\n\u001b[32m   4140\u001b[39m                 stacklevel=find_stack_level(),\n\u001b[32m   4141\u001b[39m             )\n\u001b[32m   4142\u001b[39m         \u001b[38;5;28;01melif\u001b[39;00m len(key) != len(self.index):\n\u001b[32m-> \u001b[39m\u001b[32m4143\u001b[39m             raise ValueError(\n\u001b[32m   4144\u001b[39m                 f\"Item wrong length {len(key)} instead of {len(self.index)}.\"\n\u001b[32m   4145\u001b[39m             )\n\u001b[32m   4146\u001b[39m \n",
      "\u001b[31mValueError\u001b[39m: Item wrong length 0 instead of 19."
     ]
    }
   ],
   "source": [
    "import pandas as pd\n",
    "import numpy as np\n",
    "from scipy import stats\n",
    "import json\n",
    "\n",
    "with open('utils/region_mapping.json', 'r', encoding='utf-8-sig') as f:\n",
    "    region_mapping = json.load(f)\n",
    "\n",
    "# 1. Remove irrelevant columns\n",
    "df_clean = df.drop(columns=['417485-annotations', 'Continent'], errors='ignore') # Ignore if no\n",
    "\n",
    "# 2. Filter years (2000-2022 to have recent data but with coverage) Filter years (2000-2022 to have recent data but with coverage)\n",
    "df_clean = df_clean[(df_clean['Year'] >= 2000) & (df_clean['Year'] <= 2022)]\n",
    "\n",
    "# 3. Advanced missing value management\n",
    "# 3.1. Remove countries less than 5 years old Remove countries with less than 5 years of data\n",
    "min_years = 5\n",
    "counts = df_clean['Code'].value_counts()\n",
    "valid_countries = counts[counts >= min_years].index\n",
    "df_clean = df_clean[df_clean['Code'].isin(valid_countries)]\n",
    "\n",
    "# 3. Imputation by regional/year medians\n",
    "df_clean['Region'] = df_clean['Entity'].map(region_mapping)\n",
    "df_clean['gdp_per_capita'] = df_clean.groupby(['Region', 'Year'])['gdp_per_capita'].transform(\n",
    " lambda x: x.fillna(x.median())\n",
    ")\n",
    "\n",
    "# 4. Outlier detection and treatment\n",
    "# 4.1. Use Z-score for numeric variables\n",
    "numeric_cols = ['poverty_rate', 'gdp_per_capita', 'gini_index']\n",
    "z_scores = np.abs(stats.zscore(df_clean[numeric_cols].dropna()))\n",
    "df_clean = df_clean[(z_scores < 3).all(axis=1)] # Remove |Z| > 3\n",
    "\n",
    "# 5. Validate consistency # 5.1. Remove outliers. Validation of consistency\n",
    "# 5.1. Ensure poverty rate is between 0-100\n",
    "df_clean = df_clean[(df_clean['poverty_rate'] >= 0) & (df_clean['poverty_rate'] <= 100)]\n",
    "\n",
    "# 5.2. Positive GDP per capita\n",
    "df_clean = df_clean[df_clean['gdp_per_capita'] > 0]\n",
    "\n",
    "# 6. Normalize country names\n",
    "# 6.1. Unify names (e.g., \"Ivory Coast\" -> \"Ivory Coast\")\n",
    "df_clean['Entity'] = df_clean['Entity'].str.normalize('NFKD').str.encode('ascii', errors='ignore').str.decode('utf-8')\n",
    "\n",
    "# 7. Reset index after operations 7. Reset index after operations\n",
    "df_clean = df_clean.reset_index(drop=True)\n",
    "\n",
    "# 8. Final verification print(f“% Original”). Final verification\n",
    "print(f\"% Original data maintained: {len(df_clean)/len(df)*100:.2f}%\")\n",
    "print(\"Post-cleaning summary:\")\n",
    "print(df_clean.describe())\n",
    "\n",
    "# Export to CSV\n",
    "os.makedirs('data', exist_ok=True)\n",
    "df_clean.to_csv(\"data/poverty_dataset_clean.csv\", index=False)"
   ]
  },
  {
   "cell_type": "code",
   "execution_count": null,
   "id": "1c1709ce-2d8b-48ca-8a5f-f34b8b5fcd61",
   "metadata": {},
   "outputs": [],
   "source": []
  }
 ],
 "metadata": {
  "kernelspec": {
   "display_name": "Python 3 (ipykernel)",
   "language": "python",
   "name": "python3"
  },
  "language_info": {
   "codemirror_mode": {
    "name": "ipython",
    "version": 3
   },
   "file_extension": ".py",
   "mimetype": "text/x-python",
   "name": "python",
   "nbconvert_exporter": "python",
   "pygments_lexer": "ipython3",
   "version": "3.13.2"
  }
 },
 "nbformat": 4,
 "nbformat_minor": 5
}
